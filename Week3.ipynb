{
 "cells": [
  {
   "cell_type": "markdown",
   "metadata": {},
   "source": [
    "### Week 3: Real Time Data, Understanding Orders, and Arbitrage\n",
    "\n",
    "Todo: talk about websockets.\n",
    "\n",
    "Todo: talk about order types (market, limit, stop loss). \n",
    "\n",
    "Todo: talk about quotes (bid-ask spread, order size)."
   ]
  },
  {
   "cell_type": "code",
   "execution_count": 5,
   "metadata": {},
   "outputs": [],
   "source": [
    "from config import *\n",
    "import websocket\n",
    "import json\n",
    "import numpy as np\n",
    "\n",
    "SOCKET_ENDPOINT = \"wss://data.alpaca.markets/stream\"\n",
    "STOCKS = [\"T.AAPL\"]  \n",
    "# T. is trades (ie all trades executed by exchanges)  Q. is quotes (what people are willing to buy/sell for)"
   ]
  },
  {
   "cell_type": "code",
   "execution_count": 6,
   "metadata": {},
   "outputs": [],
   "source": [
    "# all websockets take 3 mandatory functions: on open, on message, and on close.  \n",
    "# On open gets called once when we try to connect \n",
    "# on message gets called each time we get a new piece of data sent to us\n",
    "# on close gets called when we close the connection (stop listening to data)\n",
    "\n",
    "\n",
    "def on_open(ws):\n",
    "    # we have to send an authentication message\n",
    "    auth_data = {\n",
    "        \"action\": \"authenticate\",\n",
    "        \"data\": {\n",
    "            \"key_id\": f\"{KEY}\",\n",
    "            \"secret_key\": f\"{SECRET_KEY}\"\n",
    "        }\n",
    "    }\n",
    "    # authenticate our connection\n",
    "    ws.send(json.dumps(auth_data))\n",
    "\n",
    "    channel_data = {\n",
    "        \"action\": \"listen\",\n",
    "        \"data\": {\"streams\": STOCKS}  # streams is what channels we want to subscribe to\n",
    "    }\n",
    "\n",
    "    ws.send(json.dumps(channel_data))\n",
    "    \n",
    "    \n",
    "def on_message(ws, message):\n",
    "    # every time a message gets sent to us we have to define what to do.  In this instance we'll just print it\n",
    "    # but we can get more complex by doing stuff like analyzing the high frequency data to make orders\n",
    "    print(\"received a message\")\n",
    "    print(message)\n",
    "    \n",
    "def on_close(ws):\n",
    "    print(\"closed connection\")"
   ]
  },
  {
   "cell_type": "code",
   "execution_count": 8,
   "metadata": {},
   "outputs": [
    {
     "name": "stdout",
     "output_type": "stream",
     "text": [
      "received a message\n",
      "{\"stream\":\"authorization\",\"data\":{\"action\":\"authenticate\",\"status\":\"unauthorized\"}}\n",
      "received a message\n",
      "{\"stream\":\"authorization\",\"data\":{\"action\":\"listen\",\"status\":\"unauthorized\"}}\n",
      "closed connection\n"
     ]
    },
    {
     "data": {
      "text/plain": [
       "True"
      ]
     },
     "execution_count": 8,
     "metadata": {},
     "output_type": "execute_result"
    }
   ],
   "source": [
    "ws = websocket.WebSocketApp(SOCKET_ENDPOINT, on_open=on_open, on_message=on_message, on_close=on_close)\n",
    "# you'll want to run this in a local terminal for it to work\n",
    "ws.run_forever()"
   ]
  },
  {
   "cell_type": "markdown",
   "metadata": {},
   "source": [
    "### So what do we do with this data?\n",
    "\n",
    "Answer: By getting data almost instantly (10ish milliseconds latency - but this will differ by location) from exchanges, we're among the first people in the markets to know what people are doing.  \n",
    "\n",
    "Here are three key strategies that \"high frequency traders\" use to make money.  We'll illustrate them with examples then get a bit more technical.  \n",
    "\n",
    "### Market Making: \n",
    "Say you go to a farmer's market and want to buy some apples.  You see that farmers are selling apples for 1.00 (bid price) a piece, but suppose you heard people waiting in line to get in saying they're willing to buy apples for 1.05 (ask price) a piece.  With this information, you run ahead of everyone else and buy the apples for they're market price of 1.00 then run back to the people in line and sell your apples for 1.05 a piece.  In essense you are able to act faster than everyone else and use that to your advantage.  By doing so you're rewarded with a risk-free(ish) profit of 5 cents a peice\n",
    "\n",
    "In the real market scenario, you have algorithms watching quotes from exchanges and if there is a sufficiently large bid ask spread, you'll purchase the shares for the bid price then immediately sell them at the ask price, being rewarded with the spread.  The issue here is that if someone sells the shares to that third person faster than you, then you've got shares you don't want to have and no one to buy them from you.\n",
    "\n",
    "### Arbitrage: \n",
    "Say you are at the same farmers market and can purchase apples for 1.00 a piece, but you know there's another famers market across town with people buying apples at 1.20 a peice.  You purchase the apples, drive across town, then dump your apples.\n",
    "\n",
    "In a trading scenario, you can purchase shares of Apple stock at various stock exchanges, say NYSE and Hong Kong Stock Exchange.  We would expect these prices to be very close, but occasionally the price may differ by more than a few cents.  Then we can purchase shares at the cheeper exchange then sell them at the more expensive exchange and pocket the spread. \n",
    "\n",
    "### Trade Following (more falls into statarb):\n",
    "I can't think of a good example for this, so we'll go straight into the market example.  \n",
    "\n",
    "Say we're watching trade streams from an exchange and notice that a huge amount of shares are trying to be sold, which might be a big bank liquidating their position.  We believe that this liquidation will cause a quick dip in share price (higher supply, same demand), so we quickly short the stock and hope the price does what we want."
   ]
  },
  {
   "cell_type": "markdown",
   "metadata": {},
   "source": [
    "### We'll code up a quick market maker algo"
   ]
  },
  {
   "cell_type": "code",
   "execution_count": 9,
   "metadata": {},
   "outputs": [],
   "source": [
    "import json\n",
    "from setup_requests import make_order\n",
    "# the idea here is that we'll watch quote streams then try to buy at the bid price and sell at the ask price\n",
    "\n",
    "\n",
    "def analyze(ws, message):\n",
    "    json_dict = json.loads(message)\n",
    "    quote = json_dict[\"data\"]\n",
    "    if quote[\"ev\"] == \"Q\":\n",
    "        asset = quote[\"T\"]\n",
    "        bid_price = quote[\"p\"]\n",
    "        bid_size = quote[\"s\"]\n",
    "        ask_price = quote[\"P\"]\n",
    "        ask_size = quote[\"S\"]\n",
    "        # naive approach: buy if bid-ask spread > $.03\n",
    "\n",
    "        spread = quote[\"P\"] - quote[\"p\"]\n",
    "        # we want a reasonably large spread so we make good money for the risk\n",
    "        if spread >= .05 and bid_size > ask_size:\n",
    "            order_size = 1\n",
    "            buy_order = make_order(asset, order_size, \"buy\", \"limit\", \"fok\", ask_price)\n",
    "            if buy_order[\"status\"] == \"accepted\":\n",
    "                print(f\"bought {order_size} of {asset} at {bid_price}\")\n",
    "                sell_order = make_order(asset, order_size, \"sell\", \"limit\", \"fok\", bid_price)\n",
    "                if sell_order[\"status\"] == \"accepted\":\n",
    "                    print(f\"sold {order_size} of {asset} at {ask_price}\")"
   ]
  },
  {
   "cell_type": "markdown",
   "metadata": {},
   "source": [
    "Now to test this out, we just make a quick change to our websocket."
   ]
  },
  {
   "cell_type": "code",
   "execution_count": 10,
   "metadata": {},
   "outputs": [],
   "source": [
    "def on_open(ws):\n",
    "    # we have to send an authentication message\n",
    "    auth_data = {\n",
    "        \"action\": \"authenticate\",\n",
    "        \"data\": {\n",
    "            \"key_id\": f\"{KEY}\",\n",
    "            \"secret_key\": f\"{SECRET_KEY}\"\n",
    "        }\n",
    "    }\n",
    "    # authenticate our connection\n",
    "    ws.send(json.dumps(auth_data))\n",
    "\n",
    "    channel_data = {\n",
    "        \"action\": \"listen\",\n",
    "        \"data\": {\"streams\": STOCKS}  # streams is what channels we want to subscribe to\n",
    "    }\n",
    "\n",
    "    ws.send(json.dumps(channel_data))\n",
    "    \n",
    "    \n",
    "def on_message(ws, message):\n",
    "    analyze(ws, message)\n",
    "    \n",
    "def on_close(ws):\n",
    "    print(\"closed connection\")"
   ]
  },
  {
   "cell_type": "code",
   "execution_count": 11,
   "metadata": {},
   "outputs": [
    {
     "name": "stdout",
     "output_type": "stream",
     "text": [
      "closed connection\n"
     ]
    },
    {
     "data": {
      "text/plain": [
       "True"
      ]
     },
     "execution_count": 11,
     "metadata": {},
     "output_type": "execute_result"
    }
   ],
   "source": [
    "ws = websocket.WebSocketApp(SOCKET_ENDPOINT, on_open=on_open, on_message=on_message, on_close=on_close)\n",
    "ws.run_forever()"
   ]
  },
  {
   "cell_type": "markdown",
   "metadata": {},
   "source": [
    "Now when this runs we notice that we very rarely got orders filled.  We correctly identified when to purchase orders, but by the time our order was processed by the exchange there were no longer anymore shares to be purhcased near the bid price.  This means that we were simply too slow.\n",
    "\n",
    "And this is basically as far as you can get with market making as a retail trader.  We're operating on the millisecond latency scale, but high frequency trading firms operate on the nanosecond scale, meaning they're roughly a million times faster than we are.  This basically means that they place servers to run their code literally across the street from places like the NYSE or sometimes even inside the exchanges themselves, and with all this infastructure there is almost no chance you'll beat a high frequency trader to the exchange.  \n",
    "\n",
    "Speedups also come from code.  Python is notoriously slow, meaning that quants oftentimes test ideas and benchmark them in python since it's easy to use, but production algotrading code is almost entirely written in C or C++, and sometimes Assembley to get the fastest code.  \n",
    "\n",
    "Same is true for arbitrage, which is free money if you have fast enough computers."
   ]
  },
  {
   "cell_type": "code",
   "execution_count": null,
   "metadata": {},
   "outputs": [],
   "source": []
  }
 ],
 "metadata": {
  "kernelspec": {
   "display_name": "Python 3",
   "language": "python",
   "name": "python3"
  },
  "language_info": {
   "codemirror_mode": {
    "name": "ipython",
    "version": 3
   },
   "file_extension": ".py",
   "mimetype": "text/x-python",
   "name": "python",
   "nbconvert_exporter": "python",
   "pygments_lexer": "ipython3",
   "version": "3.6.12"
  }
 },
 "nbformat": 4,
 "nbformat_minor": 4
}
