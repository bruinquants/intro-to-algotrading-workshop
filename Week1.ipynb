{
 "cells": [
  {
   "cell_type": "markdown",
   "metadata": {},
   "source": [
    "# Welcome to the Bruin Quants Intro to Algotrading Workshop!\n",
    "\n",
    "### What you can expect to learn (by week)\n",
    "1. How to use APIs to gather historical data and technical analysis\n",
    "2. Writing and backtesting basic algorithms \n",
    "3. Streaming live market data using websockets, high frequency trading and arbitrage\n",
    "4. Basics of statistical arbitrage, time series analysis\n",
    "5. Implementing a pairs trading algorithm"
   ]
  },
  {
   "cell_type": "markdown",
   "metadata": {},
   "source": [
    "# API Requests\n",
    "\n",
    "TODO: explain how requests work, what json is, basics of get, post, and endpoints.\n",
    "\n",
    "We're using the Alpaca API, which is a free platform that allows us to fetch historical data, connect to live market data streams, and post orders in a paper trading account to test our performance.  "
   ]
  },
  {
   "cell_type": "code",
   "execution_count": 3,
   "metadata": {},
   "outputs": [],
   "source": [
    "BASE_URL = \"https://paper-api.alpaca.markets\"  # tells the browser where we want to connect to\n",
    "\n",
    "ACCOUNT_URL = f\"{BASE_URL}/v2/account\"\n",
    "ORDER_URL = f\"{BASE_URL}/v2/orders\"\n",
    "POSITIONS_URL = f\"{BASE_URL}/v2/positions\"\n",
    "ASSETS_URL = f\"{BASE_URL}/v2/assets\"\n",
    "\n",
    "HISTORICAL_URL = \"https://data.alpaca.markets\""
   ]
  },
  {
   "cell_type": "markdown",
   "metadata": {},
   "source": [
    "### In a separate file called ```config.py``` we have the following code: \n",
    "\n",
    "We do this because for security purposes we really don't want our API keys floating around publically on \n",
    "the internet.  When you go to run this code on your own make sure to just copy/paste your keys into their \n",
    "respective places in this file so everything can run properly"
   ]
  },
  {
   "cell_type": "code",
   "execution_count": 3,
   "metadata": {},
   "outputs": [],
   "source": [
    "# BASE_URL = \"https://paper-api.alpaca.markets\"\n",
    "# KEY = \"Your API Key Here\"\n",
    "# SECRET_KEY = \"Your Secret Key Here\"\n",
    "\n",
    "# HEADERS = {\"APCA-API-KEY-ID\": KEY, \"APCA-API-SECRET-KEY\": SECRET_KEY}\n",
    "\n",
    "# headers are used to authenticate our request\n",
    "\n",
    "# it's commented out so it won't affect the rest of our code"
   ]
  },
  {
   "cell_type": "markdown",
   "metadata": {},
   "source": [
    "The simplest thing we can do right now is look at our account information.  To do this we will use the requests module\n",
    "to send a get request. "
   ]
  },
  {
   "cell_type": "code",
   "execution_count": 2,
   "metadata": {},
   "outputs": [],
   "source": [
    "import requests\n",
    "import json\n",
    "from config import *\n",
    "\n",
    "def get_account():\n",
    "    # get our account information - cash, value invested, ect.\n",
    "    # basically every API request we'll be doing takes in two pieces of info - the url we want and headers to a\n",
    "    # authenticate our request\n",
    "    r = requests.get(url=ACCOUNT_URL, headers=HEADERS)\n",
    "    # json.loads takes the json string and transforms it to easy to use a python dictionary\n",
    "    # the .content basically gives us the json string the server returns\n",
    "    return json.loads(r.content)"
   ]
  },
  {
   "cell_type": "code",
   "execution_count": 5,
   "metadata": {},
   "outputs": [],
   "source": [
    "# Todo: do this process for get_positions, make_orders, get_historical, and make_dataframe functions "
   ]
  },
  {
   "cell_type": "code",
   "execution_count": null,
   "metadata": {},
   "outputs": [],
   "source": []
  },
  {
   "cell_type": "code",
   "execution_count": null,
   "metadata": {},
   "outputs": [],
   "source": []
  }
 ],
 "metadata": {
  "kernelspec": {
   "display_name": "Python 3",
   "language": "python",
   "name": "python3"
  },
  "language_info": {
   "codemirror_mode": {
    "name": "ipython",
    "version": 3
   },
   "file_extension": ".py",
   "mimetype": "text/x-python",
   "name": "python",
   "nbconvert_exporter": "python",
   "pygments_lexer": "ipython3",
   "version": "3.6.12"
  }
 },
 "nbformat": 4,
 "nbformat_minor": 4
}
