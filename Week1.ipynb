{
 "cells": [
  {
   "cell_type": "markdown",
   "metadata": {},
   "source": [
    "# Welcome to the Bruin Quants Intro to Algotrading Workshop!\n",
    "\n",
    "### What you can expect to learn (by week)\n",
    "1. How to use APIs to gather historical data and technical analysis\n",
    "2. Writing and backtesting basic algorithms \n",
    "3. Streaming live market data using websockets, high frequency trading and arbitrage\n",
    "4. Basics of statistical arbitrage, time series analysis\n",
    "5. Implementing a pairs trading algorithm"
   ]
  },
  {
   "cell_type": "markdown",
   "metadata": {},
   "source": [
    "# JSON Tutorial\n",
    "\n",
    "### What is JSON?\n",
    "JSON is an acronym for ```JavaScript Object Notation```.\n",
    "-    A JavaScript \"Object\" is very similar to what we know in Python as \"dictionaries\".\n",
    "        -  **Note :** JavaScript Objects are also very similar to JavaScript maps, which would be considered the \"true Python Dictionary equvialent\".\n",
    "       - **Warning :** In JavaScript, an Object is a type of object, so a Javascript Object is essentially an \"Object object\" which can be confusing to many people. You don't have to understand the distinction for the purposes of this this course.\n",
    "-   Much like Python dictionaries, there are \"keys\", which each have \"values\".\n",
    "-   The JSON file format provides an efficient way of transmiting data from once place to another. \n",
    "        - (ex sending data from backend to frontend.)\n",
    "\n",
    "### What is a Python dictionary?\n",
    "A Python dictionary is essentially a list of \"keys\" and \"values\".\n",
    "-    Every key is matched with a value.\n",
    "        - **Note :** Keys cannot be mutable—only values can be. \n",
    "                - (ex a key cannot be a list, but a value can be a list.)\n",
    "-    Think of the keys as the words in a real dictionary, and the values the definition of the words.\n",
    "    \n",
    "### Example JSON File\n",
    "Example of a JSON file :\n",
    "```JSON\n",
    "{\"menu\": {\n",
    "    \"id\": \"file\",\n",
    "    \"value\": \"File\",\n",
    "    \"popup\": {\n",
    "        \"menuitem\": [\n",
    "                {\"value\": \"New\", \"onclick\": \"CreateNewDoc()\"},\n",
    "                {\"value\": \"Open\", \"onclick\": \"OpenDoc()\"},\n",
    "                {\"value\": \"Close\", \"onclick\": \"CloseDoc()\"}\n",
    "        ]\n",
    "    }\n",
    "}}\n",
    "```\n",
    "-    Here, the string, `\"menu\"`, is the key to the Object value.\n",
    "-    `\"id\"` is the key to the `\"file\"` value.\n",
    "-    `\"value\"` is the key to the `\"File\"` value.\n",
    "-    `\"menuitem\"` is the key to a list (aka array) value.\n",
    "-    and so on...\n",
    "\n",
    "### Combining Python and JSON\n",
    "Important Python libaries and modules for JSON :\n",
    "-    **requests**\n",
    "        - a library that allows you to request files from a server using HTTP (HyperText Transfer Protocol).\n",
    "-    **json** \n",
    "        - a library that allows you to decode and interact with JSON files within a Python program.\n",
    "\n",
    "### Example Python code using JSON\n",
    "```python3\n",
    "# import the necessary libraries\n",
    "import requests\n",
    "import json\n",
    "\n",
    "# request a file from the server\n",
    "raw_file = requests.get(url='https://example.com/test.json')\n",
    "\n",
    "# decode the string into equivalent Python data types\n",
    "decoded_file = json.loads(raw_json_file.content)\n",
    "\n",
    "# now, you can use regular Python syntax such as index operators to get the data you want\n",
    "print(decoded_file['menu']['id'])\n",
    ">>> file\n",
    "\n",
    "print(decoded_file['menu']['menuitem'][0])\n",
    ">>> {\"value\": \"New\", \"onclick\" : \"CreateNewDoc()\"}\n",
    "\n",
    "print(decoded_file['menu']['menuitem'][2]['onclick'])\n",
    ">>> CloseDoc()\n",
    "```\n",
    "\n",
    "### Final Remarks\n",
    "JSON is extremely important in the world of programming :\n",
    "-    JSON is an extremely convenient way to transfer data, and most modern day programming languages support JSON decoding and interaction.\n",
    "-   JSON will be very important for the purposes of this course, because the API we will be using returns relevant data in the JSON file format.\n",
    "\n",
    "\n",
    "# API Tutorial\n",
    "\n",
    "### What is an API?\n",
    "API is an acronym for `Application Programming Interface`.\n",
    "-    An API is an interface which can allow for software intermediaries to communicate with one another.\n",
    "        - APIs are most commonly associated with web-development, where an API can serve as an intermediary between frontend and backend code.\n",
    "        - Most modern APIs adhere to HTTP and REST standards.\n",
    "-   Many software as a service (SaaS) services provide APIs that allow clients to connect their programs to the service's.\n",
    "       - (ex Twitter, Yahoo Finance, Skyscanner, Alpaca, etc.)\n",
    "\n",
    "### What is HTTP?\n",
    "HTTP is an acronym for `HyperText Transfer Protocol`.\n",
    "-   HTTP is a protocol used to transfer files over the web.\n",
    "\t- HTTP utilizes TCP (Transmission Control Protocol) to do this.\n",
    "- There is no need to have a deep understanding of HTTP for the purposes of this course.\n",
    "      \n",
    "### What is REST?\n",
    "REST is an acronym for `REpresentational State Transfer`.\n",
    "-   REST is a architectual style that uses existing technology and protocols of the Web.\n",
    "-   REST systems are based off of requests and responses.\n",
    "-   REST almost always *utilizes* HTTP because it's the standard for web-based protocols.\n",
    "\t   - **Warning :** You have most likely heard of \"RESTful\" APIs. The distinction between REST and RESTful can be murky, but RESTful is often used as an adjective to describe something that conforms to the REST architecture. In most scenarios, the two can be used interchangeably.\n",
    "- REST's most important features are... : \n",
    "\t- The requesting systems (the program you wrote) are able to make requests to access or manipulate web resources.\n",
    "\t- When making a request, you can send a header which is additional information about the request\n",
    "\t\t-  (ex you may need to send authentication tokens to get a response in the first place.)\n",
    "    - There exists at least one endpoint (URL in most cases).\n",
    "    - All operations are *stateless*. This means that the current state of the requester does not matter.\n",
    "\t- Data is returned (a response) in a lightweight data format such as `JSON`.\n",
    "\t- Utilizes `CRUD` operations for requests.\n",
    "\n",
    "### What is CRUD?\n",
    "CRUD is an acronym for `Create, Read, Update, Delete`.\n",
    "-   CRUD operations are linked to their respective basic *HTTP Verbs*.\n",
    "  \t- POST : Create new data\n",
    "    - GET : Read data\n",
    "    - PUT : Update data \n",
    "    - DELETE : Delete data\n",
    "-   These operations are important because they serve as the building blocks for communication between the requester and web resource.\n",
    "-   When making a request, you will use one of these verbs.  You can figure out the verb by looking at the documentation.  For example, in the Alpaca API, to get our account information it says ```GET /v2/account```, which tells us to use a get request to the following url.  \n",
    "\n",
    "\n",
    "\n",
    "### Combining Python and RESTful APIs\n",
    "Important Python libraries and modules for RESTful APIs :\n",
    "-   **requests**\n",
    "     - a library that allows you to request files from a server using HTTP (HyperText Transfer Protocol)\n",
    "\n",
    "\n",
    "### Example Python code using Requests\n",
    "```python3\n",
    "# import the necessary libraries\n",
    "import requests\n",
    "\n",
    "# request a file from an endpoint with the GET verb\n",
    "raw_file = requests.get(url='https://example.com/test.json')\n",
    "\n",
    "# request a file from an endpoint with the GET verb with headers\n",
    "raw_file = requests.get(url='https://example.com/test.json', headers={'KEY-ID': something, 'SECRET-KEY' : something})\n",
    "\n",
    "```\n",
    "\n",
    "### Final Remarks\n",
    "APIs are extremely important in our everyday lives.\n",
    "-   Without APIs, many of the services we depend on will not work.\n",
    "      - (ex phone weather services, many sms platforms, etc.)\n",
    "-   APIs allow us to easily transfer data between different systems through the Web.\n",
    "\n",
    "\n",
    "\n",
    "We're using the Alpaca API, which is a free platform that allows us to fetch historical data, connect to live market data streams, and post orders in a paper trading account to test our performance.  We'll develop some of the code we need to execute these requests now.  "
   ]
  },
  {
   "cell_type": "code",
   "execution_count": 3,
   "metadata": {},
   "outputs": [],
   "source": [
    "BASE_URL = \"https://paper-api.alpaca.markets\"  # tells the browser where we want to connect to\n",
    "\n",
    "ACCOUNT_URL = f\"{BASE_URL}/v2/account\"\n",
    "ORDER_URL = f\"{BASE_URL}/v2/orders\"\n",
    "POSITIONS_URL = f\"{BASE_URL}/v2/positions\"\n",
    "ASSETS_URL = f\"{BASE_URL}/v2/assets\"\n",
    "\n",
    "HISTORICAL_URL = \"https://data.alpaca.markets\"  # separate url for historical data"
   ]
  },
  {
   "cell_type": "markdown",
   "metadata": {},
   "source": [
    "### In a separate file called ```config.py``` we have the following code: \n",
    "\n",
    "We do this because for security purposes we really don't want our API keys floating around publically on \n",
    "the internet.  When you go to run this code on your own make sure to just copy/paste your keys into their \n",
    "respective places in this file so everything can run properly"
   ]
  },
  {
   "cell_type": "code",
   "execution_count": 3,
   "metadata": {},
   "outputs": [],
   "source": [
    "# BASE_URL = \"https://paper-api.alpaca.markets\"\n",
    "# KEY = \"Your API Key Here\"\n",
    "# SECRET_KEY = \"Your Secret Key Here\"\n",
    "\n",
    "# HEADERS = {\"APCA-API-KEY-ID\": KEY, \"APCA-API-SECRET-KEY\": SECRET_KEY}\n",
    "\n",
    "# headers are used to authenticate our request\n",
    "\n",
    "# it's commented out so it won't affect the rest of our code"
   ]
  },
  {
   "cell_type": "markdown",
   "metadata": {},
   "source": [
    "The simplest thing we can do right now is look at our account information.  To do this we will use the requests module\n",
    "to send a get request. "
   ]
  },
  {
   "cell_type": "code",
   "execution_count": 1,
   "metadata": {},
   "outputs": [],
   "source": [
    "import requests\n",
    "import json\n",
    "from config import *\n",
    "\n",
    "def get_account():\n",
    "    # get our account information - cash, value invested, ect.\n",
    "    # basically every API request we'll be doing takes in two pieces of info - the url we want and headers to a\n",
    "    # authenticate our request\n",
    "    r = requests.get(url=ACCOUNT_URL, headers=HEADERS)\n",
    "    # json.loads takes the json string and transforms it to easy to use a python dictionary\n",
    "    # the .content basically gives us the json string the server returns\n",
    "    return json.loads(r.content)"
   ]
  },
  {
   "cell_type": "code",
   "execution_count": null,
   "metadata": {},
   "outputs": [],
   "source": [
    "def get_positions():\n",
    "    # returns our portfolio - set of all our positions (ie what we have bought)\n",
    "    r = requests.get(url=POSITIONS_URL, headers=HEADERS)\n",
    "    return json.loads(r.content)\n",
    "\n",
    "\n",
    "def make_order(symbol: str, qty: int, side: str, order_type: str, time_in_force: str, limit_price: float):\n",
    "    # check out the orders documentation to see in depth what these mean.\n",
    "    # Type, time in force, and limit price can definitely be a bit confusing\n",
    "    data = {\n",
    "        \"symbol\": symbol,\n",
    "        \"qty\": qty,  # number of shares\n",
    "        \"side\": side,  # buy or sell\n",
    "        \"type\": order_type,  # will usually be market or limit\n",
    "        \"time_in_force\": time_in_force,  # usually gtc(good till cancelled) or ioc(immediate or cancel)\n",
    "        \"limit_price\": limit_price  # required if our type is limit. This is the maximum price we're willing to pay\n",
    "    }\n",
    "    r = requests.post(url=ORDER_URL, json=data, headers=HEADERS)\n",
    "    return json.loads(r.content)\n",
    "\n",
    "def get_orders():\n",
    "    # returns orders that have not yet become positions\n",
    "    r = requests.get(url=ORDER_URL, headers=HEADERS)\n",
    "    return json.loads(r.content)\n",
    "\n",
    "def delete_orders():\n",
    "    # attempt to close all open orders (i.e. haven't been filled), returns 500 if order is no longer cancellable\n",
    "\n",
    "    # we might want to do this for various reasons: say we have lots of orders we placed in after hours that won't be\n",
    "    # filled until the start of the next trading day.  If the market gets bad then we might want to cancel the orders\n",
    "    r = requests.delete(url=ORDER_URL, headers=HEADERS)\n",
    "    return json.loads(r.content)"
   ]
  },
  {
   "cell_type": "markdown",
   "metadata": {},
   "source": [
    "Those functions are all basically everything we need to interact with the API, and it covers all the obvious actions we would want to take as a trader such as seeing our account info, making a new order, and getting our portfolio.\n",
    "\n",
    "We can now use some of these functions.  "
   ]
  },
  {
   "cell_type": "code",
   "execution_count": null,
   "metadata": {},
   "outputs": [],
   "source": [
    "acc = get_account()"
   ]
  },
  {
   "cell_type": "code",
   "execution_count": null,
   "metadata": {},
   "outputs": [],
   "source": [
    "pos = get_positions()"
   ]
  },
  {
   "cell_type": "code",
   "execution_count": null,
   "metadata": {},
   "outputs": [],
   "source": [
    "order = make_order(\"AAPL\", 1, \"buy\", \"market\", \"day\", None)\n",
    "# None is because we don't specify limit order, which is a requirent to buy/sell the asset at the specified price\n",
    "# or better for market order.  Market orders are not as strict and we'll just take whatever price we can get.  "
   ]
  },
  {
   "cell_type": "markdown",
   "metadata": {},
   "source": [
    "### Getting historical data\n",
    "Historical data is indespensible for gathering insights about the market and testing our ideas on past market actions.  Luckily Alpaca gives us a method to access historical data for US assets.  "
   ]
  },
  {
   "cell_type": "code",
   "execution_count": 2,
   "metadata": {},
   "outputs": [],
   "source": [
    "def get_historical_data(timeframe: str, symbols: str, limit: int, start: str, end: str):\n",
    "    # timeframe is our frequency, one of: minute, 1min, 5min, 15min, day, 1D\n",
    "    # gets data for our symbols between start and end.  If we include multiple, separate by commas\n",
    "    # limit is the max number of instances we want to show in the response\n",
    "\n",
    "    url = f\"{HISTORICAL_URL}/v1/bars/{timeframe}?symbols={symbols}&limit={limit}&start={start}&end={end}\"\n",
    "    r = requests.get(url=url, headers=HEADERS)\n",
    "    return json.loads(r.content)"
   ]
  },
  {
   "cell_type": "markdown",
   "metadata": {},
   "source": [
    "### Pandas\n",
    "Once we have our data, we want to transfom it to a nice to work with data structure.  Pandas is a library that allows us to make dataframes (tables) of data, which can be handled similarly to multi-dimensinal arrays.  For now we really only need one function, but along the way you'll pick up a lot of pandas.  This is probably the most important python library for data science tasks and data exploration."
   ]
  },
  {
   "cell_type": "code",
   "execution_count": 3,
   "metadata": {},
   "outputs": [],
   "source": [
    "import pandas as pd\n",
    "\n",
    "def make_dataframe(json_data: dict, asset: str):\n",
    "    # our json data gets unpacked to a dictionary keyed by the column names\n",
    "    # if we get many assets from historical data, it's easist to just pick one asset to make a dataframe with since\n",
    "    # multi-indexing becomes very tedious\n",
    "    return pd.DataFrame.from_dict(json_data[asset])"
   ]
  },
  {
   "cell_type": "code",
   "execution_count": null,
   "metadata": {},
   "outputs": [],
   "source": [
    "historical = get_historical_data(\"day\", \"AAPL\", 300, '2020-01-01', '2020-12-12')\n",
    "# gets one year of historical apple data\n",
    "df = make_dataframe(historical, \"AAPL\")"
   ]
  }
 ],
 "metadata": {
  "kernelspec": {
   "display_name": "Python 3",
   "language": "python",
   "name": "python3"
  },
  "language_info": {
   "codemirror_mode": {
    "name": "ipython",
    "version": 3
   },
   "file_extension": ".py",
   "mimetype": "text/x-python",
   "name": "python",
   "nbconvert_exporter": "python",
   "pygments_lexer": "ipython3",
   "version": "3.6.12"
  }
 },
 "nbformat": 4,
 "nbformat_minor": 4
}
