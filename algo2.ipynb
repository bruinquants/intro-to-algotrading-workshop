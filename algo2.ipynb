{
 "cells": [
  {
   "cell_type": "markdown",
   "metadata": {},
   "source": [
    "This algo is a bit different from the first algo we made.  Instead of hahazardly defining a function to always\n",
    "purchase chares every day, we'll instead tell the algo under what conditions we want to think about purchasing\n",
    "shares.  This will help a lot in terms of performance and should help us transition into more complex algos.  We \n",
    "also start to think about how long we're holding shares, because in the first algo we never sold our assets.\n",
    "\n",
    "It's important to note that in zipline even if we purchase shares based on some boolean or numerical comparison, \n",
    "it doesn't automatically sell the asset once the condition fails.  Instead we have to make sure that we order 0 shares\n",
    "to sell the stock once our given condition fails.  \n",
    "\n",
    "We also implement other important features such as leverage control and keeping track of our open positions, so we don't keep purchasing more of an asset if we already made an order.  \n",
    "\n",
    "When you analyze the tear sheet, think about how much more stable our algorithm generally seems.  We have single digit drawdown and make some decent profit.  However this approach is dangerous because we don't diversify by also short selling and we only purchase a fixed amount of asset each time.  "
   ]
  },
  {
   "cell_type": "code",
   "execution_count": null,
   "metadata": {},
   "outputs": [],
   "source": [
    "from zipline.api import symbol, order_target, set_max_leverage\n",
    "from zipline import run_algorithm\n",
    "import warnings\n",
    "import pyfolio as pf\n",
    "import pandas as pd\n",
    "warnings.filterwarnings(\"ignore\")\n",
    "\n",
    "\n",
    "# in this algo we take a filter based apporach to deciding what stocks to purchase.  In essense we define a boolean \n",
    "# functions purchase_share to pick our orders.  In zipline filters are usually booleans like is_tradable, whereas\n",
    "# factors are number values like technical indicators or fundamental business data.\n",
    "\n",
    "STOCKS = ['AMD', 'CERN', 'COST', 'DELL', 'GPS', 'INTC', 'MMM']\n",
    "MAX_BAR_HOLD = 3 # only hold a stock for max 3 bars (days in our case)\n",
    "\n",
    "\n",
    "\n",
    "def initialize(algo):\n",
    "    algo.stocks = STOCKS\n",
    "    algo.symbol_ids = [algo.symbol(asset) for asset in STOCKS]\n",
    "    algo.set_max_leverage(1.0) # only allowed to invest 100% of our total portfolio value\n",
    "    algo.has_open_positions = {symbol: False for symbol in algo.symbol_ids} \n",
    "    algo.bars_held = {symbol: 0 for symbol in algo.symbol_ids} # number of bars (ie timesteps) we've held an asset\n",
    "\n",
    "def purchase_share(algo, data):\n",
    "    recent = data.history(assets=algo.symbol_ids, fields='close', bar_count=60, frequency='1d')\n",
    "    short_mean = recent[-10:].mean()\n",
    "    long_mean = recent[-50:].mean()\n",
    "    return (short_mean > long_mean) # short term is outperforming long term\n",
    "    \n",
    "\n",
    "def handle_data(algo, data):\n",
    "    purchase = purchase_share(algo, data)\n",
    "    for security in algo.symbol_ids:\n",
    "        if not algo.has_open_positions[security] and purchase[security]:\n",
    "            order_target(security, target=2) \n",
    "            \n",
    "            # set positions tracker values \n",
    "            algo.has_open_positions[security] = True;\n",
    "            algo.bars_held[security] += 1;\n",
    "        elif algo.bars_held[security] > MAX_BAR_HOLD or not purchase[security]:  # long mean crosses over short mean\n",
    "            order_target(security, target=0) # order 0 (sell share)\n",
    "            \n",
    "            # reset value for security's open positions\n",
    "            algo.has_open_positions[security] = False\n",
    "            algo.bars_held[security] = 0\n",
    "            \n",
    "\n",
    "\n",
    "start = pd.Timestamp('2015-1-1', tz='utc')\n",
    "end = pd.Timestamp('2018-1-1', tz='utc')\n",
    "results = run_algorithm(start=start, end=end, capital_base=1000, initialize=initialize, handle_data=handle_data)\n",
    "\n",
    "returns, positions, orders = pf.utils.extract_rets_pos_txn_from_zipline(results)"
   ]
  }
 ],
 "metadata": {
  "kernelspec": {
   "display_name": "Python 3",
   "language": "python",
   "name": "python3"
  },
  "language_info": {
   "codemirror_mode": {
    "name": "ipython",
    "version": 3
   },
   "file_extension": ".py",
   "mimetype": "text/x-python",
   "name": "python",
   "nbconvert_exporter": "python",
   "pygments_lexer": "ipython3",
   "version": "3.6.12"
  }
 },
 "nbformat": 4,
 "nbformat_minor": 4
}
