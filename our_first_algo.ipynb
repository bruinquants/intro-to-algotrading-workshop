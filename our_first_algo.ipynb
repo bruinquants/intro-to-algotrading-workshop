{
 "cells": [
  {
   "cell_type": "code",
   "execution_count": null,
   "metadata": {},
   "outputs": [],
   "source": [
    "from zipline.api import order_target_percent, record, symbol, set_benchmark\n",
    "from zipline import run_algorithm\n",
    "import warnings\n",
    "import pyfolio as pf\n",
    "import pandas as pd\n",
    "import matplotlib.pyplot as plt\n",
    "\n",
    "warnings.filterwarnings(\"ignore\")\n",
    "\n",
    "STOCKS = ['AMD', 'CERN', 'COST', 'DELL', 'GPS', 'INTC', 'MMM']\n",
    "\n",
    "\n",
    "def initialize(algo):\n",
    "    algo.stocks = STOCKS\n",
    "    algo.symbol_ids = [algo.symbol(asset) for asset in STOCKS]\n",
    "\n",
    "\n",
    "def make_weights(algo, data):\n",
    "    recent = data.history(assets=algo.symbol_ids, fields='close', bar_count=60, frequency='1d')\n",
    "    short_mean = recent[-10:].mean()\n",
    "    long_mean = recent[-50:].mean()\n",
    "    weights = (short_mean - long_mean) / long_mean\n",
    "    norm_weights = weights / weights.abs().sum()\n",
    "    return norm_weights\n",
    "\n",
    "\n",
    "def handle_data(algo, data):\n",
    "    weights = make_weights(algo, data)\n",
    "    for security in algo.symbol_ids:\n",
    "        order_target_percent(security, weights[security])\n",
    "\n",
    "\n",
    "start = pd.Timestamp('2016-1-1', tz='utc')\n",
    "end = pd.Timestamp('2017-1-1', tz='utc')\n",
    "results = run_algorithm(start=start, end=end, capital_base=1000, initialize=initialize, handle_data=handle_data)\n",
    "# print(results.columns)\n",
    "# results.to_csv(\"backtest.csv\")\n",
    "returns, positions, orders = pf.utils.extract_rets_pos_txn_from_zipline(results)\n",
    "\n",
    "\n"
   ]
  }
 ],
 "metadata": {
  "kernelspec": {
   "display_name": "Python 3",
   "language": "python",
   "name": "python3"
  },
  "language_info": {
   "codemirror_mode": {
    "name": "ipython",
    "version": 3
   },
   "file_extension": ".py",
   "mimetype": "text/x-python",
   "name": "python",
   "nbconvert_exporter": "python",
   "pygments_lexer": "ipython3",
   "version": "3.6.12"
  }
 },
 "nbformat": 4,
 "nbformat_minor": 4
}
